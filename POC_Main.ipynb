{
 "cells": [
  {
   "cell_type": "code",
   "execution_count": 1,
   "id": "f2e569d4",
   "metadata": {},
   "outputs": [
    {
     "name": "stderr",
     "output_type": "stream",
     "text": [
      "C:\\Users\\chemi\\Desktop\\enviroments\\myml\\lib\\site-packages\\geopandas\\_compat.py:123: UserWarning: The Shapely GEOS version (3.10.3-CAPI-1.16.1) is incompatible with the GEOS version PyGEOS was compiled with (3.10.4-CAPI-1.16.2). Conversions between both will be slow.\n",
      "  warnings.warn(\n"
     ]
    }
   ],
   "source": [
    "import pandas as pd\n",
    "import geopandas as gpd\n",
    "import psycopg2\n",
    "import os\n",
    "import random\n",
    "from source.db_query_split import *\n",
    "\n",
    "# os.chdir(r'D:\\Sociometrik\\poc_data_extraction')\n",
    "os.getcwd()\n",
    "\n",
    "loc = 'loc.locality, '\n",
    "day_prt = 'ft.day_part, '\n",
    "out_loc = r'output_csv'"
   ]
  },
  {
   "cell_type": "markdown",
   "id": "0ed9ef25",
   "metadata": {},
   "source": [
    "## Change your City Name for extract all data also set Start Date + End Date for footfall data"
   ]
  },
  {
   "cell_type": "code",
   "execution_count": 2,
   "id": "b171bbd5",
   "metadata": {},
   "outputs": [],
   "source": [
    "town = \"'Faridabad'\"  # Use \"'Faridabad', 'Gurugram'\" for multiple towns\n",
    "strt_dat = \"'2023-06-09'\" # Start Date Using for Footfall\n",
    "end_dat = \"'2023-06-10'\" # End Date Using for Footfall"
   ]
  },
  {
   "cell_type": "markdown",
   "id": "7e2922a7",
   "metadata": {},
   "source": [
    "### EXTRACT All Data, PoiCount and CS DATA AT TOWN LEVEL"
   ]
  },
  {
   "cell_type": "code",
   "execution_count": 3,
   "id": "35b9d812",
   "metadata": {},
   "outputs": [],
   "source": [
    "all_dt_town = pd.read_sql(query_splt[1].format('', town), engine)\n",
    "all_dt_town.to_csv(os.path.join(out_loc,'Alldata_Town_Level.csv'), index=False)\n",
    "poi_cnt_town = pd.read_sql(query_splt[2].format('', town), engine)\n",
    "poi_cnt_town.to_csv(os.path.join(out_loc,'POICount_Town_Level.csv'), index=False)\n",
    "cs_dt_town = pd.read_sql(query_splt[0].format('', town), engine)\n",
    "cs_dt_town.to_csv(os.path.join(out_loc,'CS_Data_Town_Level.csv'), index=False)"
   ]
  },
  {
   "cell_type": "code",
   "execution_count": 4,
   "id": "1c67fe62-c033-4518-b672-25922526c333",
   "metadata": {},
   "outputs": [],
   "source": [
    "brnd_catg_poi_town = pd.read_sql(query_splt[20].format(town), engine)\n",
    "brnd_catg_poi_town.to_csv(os.path.join(out_loc,'Brand_POI_CNT_Catgory_Town_Level.csv'), index=False)"
   ]
  },
  {
   "cell_type": "markdown",
   "id": "6b3aac7e",
   "metadata": {},
   "source": [
    "### EXTRACT All Data, PoiCount and CS DATA AT LOCALITY LEVEL"
   ]
  },
  {
   "cell_type": "code",
   "execution_count": 5,
   "id": "6da813f3",
   "metadata": {},
   "outputs": [],
   "source": [
    "all_dt_locality = pd.read_sql(query_splt[1].format(loc, town), engine)\n",
    "all_dt_locality.to_csv(os.path.join(out_loc,'Alldata_Locality_Level.csv'), index=False)\n",
    "poi_cnt_locality = pd.read_sql(query_splt[2].format(loc, town), engine)\n",
    "poi_cnt_locality.to_csv(os.path.join(out_loc,'POICount_Locality_Level.csv'), index=False)\n",
    "cs_dt_locality = pd.read_sql(query_splt[0].format(loc, town), engine)\n",
    "cs_dt_locality.to_csv(os.path.join(out_loc,'CS_Data_Locality_Level.csv'), index=False)"
   ]
  },
  {
   "cell_type": "code",
   "execution_count": 6,
   "id": "4a5ceb50-95d0-41ea-8be8-4537af69dd31",
   "metadata": {},
   "outputs": [],
   "source": [
    "brnd_catg_poi_loc = pd.read_sql(query_splt[21].format(town), engine)\n",
    "brnd_catg_poi_loc.to_csv(os.path.join(out_loc,'Brand_POI_CNT_Catgory_Locality_Level.csv'), index=False)"
   ]
  },
  {
   "cell_type": "markdown",
   "id": "ff1ec9ec",
   "metadata": {},
   "source": [
    "### EXTRACT FOOTFALL FROM HEX9 TO HEX8 FOR SELECTED TOWN"
   ]
  },
  {
   "cell_type": "code",
   "execution_count": 7,
   "id": "5245f017",
   "metadata": {},
   "outputs": [],
   "source": [
    "#--Aggregate from HEX09 to HEX08 by day part and date wise from start date to end date\n",
    "footfall_hex08_day = pd.read_sql(query_splt[3].format(strt_dat, end_dat, town, day_prt), engine)\n",
    "footfall_hex08_day.to_csv(os.path.join(out_loc,'FOOTFALL_HEX08_daypart_startDate_endDat.csv'), index=False)\n",
    "\n",
    "#--Aggregate from HEX09 to HEX08 by date wise from start date to end date\n",
    "footfall_hex08_dt = pd.read_sql(query_splt[3].format(strt_dat, end_dat, town, ''), engine)\n",
    "footfall_hex08_dt.to_csv(os.path.join(out_loc,'FOOTFALL_HEX08_startDate_endDat.csv'), index=False)\n",
    "\n",
    "#--Aggregate from HEX09 to HEX08 all available data\n",
    "footfall_hex08 = pd.read_sql(query_splt[4].format(town), engine)\n",
    "footfall_hex08.to_csv(os.path.join(out_loc,'FOOTFALL_HEX08.csv'), index=False)"
   ]
  },
  {
   "cell_type": "markdown",
   "id": "461032d1",
   "metadata": {},
   "source": [
    "### EXTRACT FOOTFALL FROM HEX9 TO LOCALITY FOR SELECTED TOWN"
   ]
  },
  {
   "cell_type": "code",
   "execution_count": 8,
   "id": "c8773fb7",
   "metadata": {},
   "outputs": [],
   "source": [
    "#--Aggregate from HEX09 to Locality by day part and date wise from start date to end date\n",
    "footfall_loc_day = pd.read_sql(query_splt[5].format(strt_dat, end_dat, town, day_prt), engine)\n",
    "footfall_loc_day.to_csv(os.path.join(out_loc,'FOOTFALL_LOC_daypart_startDate_endDat.csv'), index=False)\n",
    "\n",
    "#--Aggregate from HEX09 to Locality by date wise from start date to end date\n",
    "footfall_loc_dt = pd.read_sql(query_splt[5].format(strt_dat, end_dat, town, ''), engine)\n",
    "footfall_loc_dt.to_csv(os.path.join(out_loc,'FOOTFALL_LOC_startDate_endDat.csv'), index=False)\n",
    "\n",
    "#--Aggregate from HEX09 to Locality all available data\n",
    "footfall_loc = pd.read_sql(query_splt[6].format(town), engine)\n",
    "footfall_loc.to_csv(os.path.join(out_loc,'FOOTFALL_LOC.csv'), index=False)"
   ]
  },
  {
   "cell_type": "markdown",
   "id": "238d0528",
   "metadata": {},
   "source": [
    "# -----------------   PART II -------------------"
   ]
  },
  {
   "cell_type": "markdown",
   "id": "bd439b99",
   "metadata": {},
   "source": [
    "### MAKE 50 METER BUFFER FROM POLYGON AND EXTRACT POI COUNT BY BRAND AND NON BRAND"
   ]
  },
  {
   "cell_type": "code",
   "execution_count": null,
   "id": "14b4dc43",
   "metadata": {},
   "outputs": [],
   "source": [
    "# # USE THIS CELL FOR OUTSIDE SHAPEFILE\n",
    "# # Insert Shapefile into database to make 50 meter buffer and get poi.\n",
    "# # Make sure your shapefile have columns \"property_cd, name, t_name, town_cd, state\"\n",
    "# gdf = gpd.read_file(r'C:\\GIS\\top104grwthcentre5km_buff.shp')\n",
    "# #Makesure your table name is not available in DB otherwise it will give you duplicate table name error\n",
    "# gdf.to_postgis(con = engine_past, name=table_nm, schema='public', if_exists='fail', index=False)"
   ]
  },
  {
   "cell_type": "code",
   "execution_count": 9,
   "id": "d8fdcc80",
   "metadata": {},
   "outputs": [],
   "source": [
    "table_nm = 'property'   # Declare Table Name\n",
    "column_id = 'property_cd, '  # Shapefile table unique id column\n",
    "column_nm = 'name, '  # shapefile table polygon names column"
   ]
  },
  {
   "cell_type": "code",
   "execution_count": 10,
   "id": "abe06ce9",
   "metadata": {},
   "outputs": [],
   "source": [
    "nmb = random.randint(0,100)\n",
    "tmp_tbl = str(nmb)+table_nm\n",
    "conn = psycopg2.connect(pgconnection)\n",
    "cur = conn.cursor()\n",
    "cur.execute(query_splt[7].format(table_nm, table_nm, column_id, column_nm))\n",
    "conn.commit()\n",
    "buff_brnd_poi_cnt = pd.read_sql(query_splt[8].format(table_nm, column_id, column_nm), engine)\n",
    "buff_brnd_poi_cnt.to_csv(os.path.join(out_loc,'50Meter_buff_poicnt_brand.csv'), index=False)\n",
    "cur.execute(query_splt[9].format(table_nm))\n",
    "conn.commit()\n",
    "conn.close()"
   ]
  },
  {
   "cell_type": "markdown",
   "id": "2234c48a",
   "metadata": {},
   "source": [
    "# -----------------   PART III  -------------------"
   ]
  },
  {
   "cell_type": "markdown",
   "id": "01e0c31b",
   "metadata": {},
   "source": [
    "### EXTRACT DATA FROM LOCATION BY GIVEN LAT LONG USING BUFFER"
   ]
  },
  {
   "cell_type": "code",
   "execution_count": 2,
   "id": "689dd9a8",
   "metadata": {},
   "outputs": [],
   "source": [
    "# lat_long = '28.38636, 77.30458', '28.55811, 77.21271'\n",
    "# lat_long_nm = 'buff0001', 'buff0002'\n",
    "lat_long = '12.9351396,77.6135028', '12.9745291,77.6073598', '12.9702497,77.6399514','12.9723897,77.6184568', '13.009024,77.5802256', '12.9711526,77.5982523','12.924587,77.5839204', '12.9915916,77.5709741', '12.9323822,77.6313456','12.9120861,77.6507785', '13.0111826,77.5551532', '12.9783723,77.6449235','12.9961241,77.6965574', '12.9569907,77.7321532', '12.981637,77.5637189','12.9823639,77.6107864', '12.8915077,77.5980174', '12.9871672,77.7363763','12.9323763,77.6315128', '12.9728441,77.6074441', '12.9700406,77.6100682','12.9884908,77.5940728', '13.0273999,77.5759234', '13.0193534,77.6429104','12.9858319,77.5877023', '12.99103,77.730332', '12.9239636,77.6714274','12.9074857,77.6011452', '13.0944477,77.5949083', '12.9374443,77.6890184','12.928167,77.6917053', '12.9894485,77.7278413', '12.9200632,77.6851533','12.9060197,77.593834', '13.10197,77.5863591', '12.8915995,77.5980958','12.9962757,77.6954255', '13.0833232,77.6434352', '13.0602352,77.5875447','13.0834994,77.6435871', '12.8885385,77.5629327', '12.9367676,77.6888598'\n",
    "    \n",
    "\n",
    "lat_long_nm ='buff0001', 'buff0002', 'buff0003', 'buff0004', 'buff0005', 'buff0006','buff0007', 'buff0008', 'buff0009', 'buff0010', 'buff0011', 'buff0012','buff0013', 'buff0014', 'buff0015', 'buff0016', 'buff0017', 'buff0018','buff0019', 'buff0020', 'buff0021', 'buff0022', 'buff0023', 'buff0024','buff0025', 'buff0026', 'buff0027', 'buff0028', 'buff0029', 'buff0030','buff0031', 'buff0032', 'buff0033', 'buff0034', 'buff0035', 'buff0036','buff0037', 'buff0038', 'buff0039', 'buff0040', 'buff0041', 'buff0042'\n",
    "\n",
    "\n",
    "buffer = 2000  # Buffer in Meters\n",
    "strt_dat = \"'2023-06-09'\" # Start Date Using for Footfall\n",
    "end_dat = \"'2023-06-10'\" # End Date Using for Footfall"
   ]
  },
  {
   "cell_type": "code",
   "execution_count": 3,
   "id": "b5c0af4c",
   "metadata": {},
   "outputs": [],
   "source": [
    "nmb = random.randint(0,1000)\n",
    "conn = psycopg2.connect(pgconnection)\n",
    "cur = conn.cursor()\n",
    "cur.execute(query_splt[10].format(nmb))\n",
    "conn.commit()\n",
    "for i in range(len(lat_long)):\n",
    "    buff_cd = lat_long_nm[i]\n",
    "    cur.execute(query_splt[11].format(nmb, buff_cd, lat_long[i], str(buffer)+' Mtr'))\n",
    "    conn.commit()\n",
    "cur.execute(query_splt[12].format(nmb))\n",
    "conn.commit()\n",
    "cur.execute(query_splt[13].format(nmb, buffer))\n",
    "conn.commit()"
   ]
  },
  {
   "cell_type": "code",
   "execution_count": null,
   "id": "99bbae41",
   "metadata": {},
   "outputs": [],
   "source": [
    "all_dt_buff = pd.read_sql(query_splt[14].format(nmb, ''), engine)\n",
    "all_dt_buff.to_csv(os.path.join(out_loc,'AllData_Buff.csv'), index=False)"
   ]
  },
  {
   "cell_type": "code",
   "execution_count": null,
   "id": "b3ed2ee8",
   "metadata": {},
   "outputs": [],
   "source": [
    "poi_cnt_buff = pd.read_sql(query_splt[15].format(nmb, ''), engine)\n",
    "poi_cnt_buff.to_csv(os.path.join(out_loc,'POICount_Buff.csv'), index=False)"
   ]
  },
  {
   "cell_type": "code",
   "execution_count": null,
   "id": "72f8d86c",
   "metadata": {},
   "outputs": [],
   "source": [
    "cs_dt_buff = pd.read_sql(query_splt[16].format(nmb, ''), engine)\n",
    "cs_dt_buff.to_csv(os.path.join(out_loc,'CS_Buff.csv'), index=False)"
   ]
  },
  {
   "cell_type": "code",
   "execution_count": null,
   "id": "582ebe85",
   "metadata": {},
   "outputs": [],
   "source": [
    "ft_dt_buff = pd.read_sql(query_splt[17].format(nmb, '', strt_dat, end_dat), engine)\n",
    "ft_dt_buff.to_csv(os.path.join(out_loc,'FootFall_Buff.csv'), index=False)"
   ]
  },
  {
   "cell_type": "code",
   "execution_count": 4,
   "id": "27f967c1",
   "metadata": {},
   "outputs": [],
   "source": [
    "#-------------------EXTRACT All Data, PoiCount and CS DATA AT BUFFER LEVEL ---------------------------------------------\n",
    "poi_brnd_buff = pd.read_sql(query_splt[18].format(nmb, ''), engine)\n",
    "poi_brnd_buff.to_csv(os.path.join(out_loc,'Brand_POICnt_Buff.csv'), index=False)"
   ]
  },
  {
   "cell_type": "code",
   "execution_count": 12,
   "id": "6f312fac",
   "metadata": {},
   "outputs": [],
   "source": [
    "#-------------------EXTRACT All Data, PoiCount and CS DATA AT BUFFER+LOCALITY LEVEL ------------------------------------\n",
    "all_dt_buff_loc = pd.read_sql(query_splt[14].format(nmb, loc), engine)\n",
    "all_dt_buff_loc.to_csv(os.path.join(out_loc,'AllData_Buff_locality.csv'), index=False)\n",
    "poi_cnt_buff_loc = pd.read_sql(query_splt[15].format(nmb, loc), engine)\n",
    "poi_cnt_buff_loc.to_csv(os.path.join(out_loc,'POICount_Buff_locality.csv'), index=False)\n",
    "cs_dt_buff_loc = pd.read_sql(query_splt[16].format(nmb, loc), engine)\n",
    "cs_dt_buff_loc.to_csv(os.path.join(out_loc,'CS_Buff_locality.csv'), index=False)\n",
    "ft_dt_buff_loc = pd.read_sql(query_splt[17].format(nmb, loc, strt_dat, end_dat), engine)\n",
    "ft_dt_buff_loc.to_csv(os.path.join(out_loc,'FootFall_Buff_locality.csv'), index=False)\n",
    "poi_brnd_buff_loc = pd.read_sql(query_splt[18].format(nmb, loc), engine)\n",
    "poi_brnd_buff_loc.to_csv(os.path.join(out_loc,'Brand_POICnt_Buff_Locality.csv'), index=False)"
   ]
  },
  {
   "cell_type": "code",
   "execution_count": 13,
   "id": "90de747c",
   "metadata": {},
   "outputs": [],
   "source": [
    "#------------ REMOVE EXTRA TABLE FROM DB --------------------------\n",
    "cur.execute(query_splt[19].format(nmb))\n",
    "conn.commit()\n",
    "cur.close()"
   ]
  },
  {
   "cell_type": "code",
   "execution_count": null,
   "id": "223d2655",
   "metadata": {},
   "outputs": [],
   "source": []
  }
 ],
 "metadata": {
  "kernelspec": {
   "display_name": "Python 3 (ipykernel)",
   "language": "python",
   "name": "python3"
  },
  "language_info": {
   "codemirror_mode": {
    "name": "ipython",
    "version": 3
   },
   "file_extension": ".py",
   "mimetype": "text/x-python",
   "name": "python",
   "nbconvert_exporter": "python",
   "pygments_lexer": "ipython3",
   "version": "3.9.13"
  }
 },
 "nbformat": 4,
 "nbformat_minor": 5
}
